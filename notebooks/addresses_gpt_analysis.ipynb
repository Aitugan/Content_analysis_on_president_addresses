{
 "cells": [
  {
   "cell_type": "markdown",
   "metadata": {},
   "source": [
    "### Read addresses json data"
   ]
  },
  {
   "cell_type": "code",
   "execution_count": 1,
   "metadata": {},
   "outputs": [],
   "source": [
    "import os\n",
    "import json\n",
    "\n",
    "json_file_path = \"../addresses/addresses.json\"\n",
    "data = {}\n",
    "if os.path.exists(json_file_path):\n",
    "    with open(json_file_path, 'r') as json_file:\n",
    "        data = json.load(json_file)"
   ]
  },
  {
   "cell_type": "code",
   "execution_count": null,
   "metadata": {},
   "outputs": [],
   "source": [
    "import openai\n",
    "import os\n",
    "from dotenv import load_dotenv\n",
    "load_dotenv()\n",
    "openai.api_key = os.getenv('OPENAI_API_KEY')\n",
    "chunk_size = 8000\n",
    "def ask_gpt4(addresses):\n",
    "    result = {}\n",
    "    for year, address in addresses.items():\n",
    "        i = 0\n",
    "        address_analysis = {}\n",
    "        while True:\n",
    "            chunk = \"\"\n",
    "            if len(address) > i+chunk_size:\n",
    "                chunk = address[i*chunk_size:i*chunk_size+chunk_size]\n",
    "            else:\n",
    "                chunk = address[i*chunk_size:]\n",
    "\n",
    "            text = chunk + '''\n",
    "                Imagine you're a political analyst and you need to return the result in JSON form in following format:\n",
    "                {\n",
    "                    \"key phrase1\": [score1],\n",
    "                    \"key phrase2\": [score2],\n",
    "                    \"key phrase3\": [score3],\n",
    "                    \"key phrase4\": [score4],\n",
    "                    \"key phrase5\": [score5],\n",
    "                    \"key phrase6\": [score6],\n",
    "                    \"key phrase7\": [score7],\n",
    "                    \"key phrase8\": [score8],\n",
    "                    \"key phrase9\": [score9],\n",
    "                    \"key phrase10\": [score10],\n",
    "                }\n",
    "                Here the \"key phrase\" is a pair of words or a concept that the President uses, and the \"score\" is some value  that shows how the phrase important in exactly this address. Here's the scale:\n",
    "                5 - Very important and affects all 3 areas\n",
    "                4 - Important, but affects at least 2 areas\n",
    "                3 - Important, but affects at least 1 areas\n",
    "                2 - Somewhat important, and slightly affects 1 area\n",
    "                1 - Not important\n",
    "\n",
    "                IMPORTANT: return nothing but the result in JSON format, so that it can be parsed with Python.\n",
    "            '''\n",
    "            i += 1\n",
    "            message = [{\"role\": \"system\", \"content\": text}]\n",
    "            chat = openai.ChatCompletion.create(\n",
    "                model=\"gpt-3.5-turbo\", messages=message\n",
    "            )\n",
    "            reply = chat.choices[0].message.content\n",
    "            try:\n",
    "                dict_reply = json.loads(reply)\n",
    "            except:\n",
    "                print(\"Problem with chunk \", i)\n",
    "                print(text)\n",
    "                continue\n",
    "\n",
    "            address_analysis[i+1] = dict_reply\n",
    "            if len(address) < i+chunk_size:\n",
    "                break\n",
    "\n",
    "        result[year] = address_analysis\n",
    "        print(result)\n",
    "\n",
    "        break\n",
    "\n",
    "ask_gpt4(data)"
   ]
  }
 ],
 "metadata": {
  "kernelspec": {
   "display_name": "Python 3",
   "language": "python",
   "name": "python3"
  },
  "language_info": {
   "codemirror_mode": {
    "name": "ipython",
    "version": 3
   },
   "file_extension": ".py",
   "mimetype": "text/x-python",
   "name": "python",
   "nbconvert_exporter": "python",
   "pygments_lexer": "ipython3",
   "version": "3.8.10"
  },
  "orig_nbformat": 4
 },
 "nbformat": 4,
 "nbformat_minor": 2
}
